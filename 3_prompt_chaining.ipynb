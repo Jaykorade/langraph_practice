{
 "cells": [
  {
   "cell_type": "code",
   "execution_count": 13,
   "id": "75ea92f7",
   "metadata": {},
   "outputs": [],
   "source": [
    "from langgraph.graph import StateGraph,START,END\n",
    "from langchain_openai import ChatOpenAI\n",
    "from typing import TypedDict\n",
    "from dotenv import load_dotenv"
   ]
  },
  {
   "cell_type": "code",
   "execution_count": 14,
   "id": "79f0e5bd",
   "metadata": {},
   "outputs": [
    {
     "data": {
      "text/plain": [
       "True"
      ]
     },
     "execution_count": 14,
     "metadata": {},
     "output_type": "execute_result"
    }
   ],
   "source": [
    "load_dotenv()\n"
   ]
  },
  {
   "cell_type": "code",
   "execution_count": 15,
   "id": "d28c6d25",
   "metadata": {},
   "outputs": [],
   "source": [
    "model = ChatOpenAI()"
   ]
  },
  {
   "cell_type": "code",
   "execution_count": 16,
   "id": "0dc934e9",
   "metadata": {},
   "outputs": [],
   "source": [
    "class BlogState(TypedDict):\n",
    "    title: str\n",
    "    outline:str\n",
    "    content:str\n",
    "    score:float"
   ]
  },
  {
   "cell_type": "code",
   "execution_count": 17,
   "id": "08956210",
   "metadata": {},
   "outputs": [],
   "source": [
    "def create_outline(state:BlogState)->BlogState:\n",
    "\n",
    "    title = state['title']\n",
    "    prompt = f'Generate detailed outline for topic - {title}'\n",
    "\n",
    "    \n",
    "    outline = model.invoke( prompt ).content\n",
    "\n",
    "    state['outline']= outline\n",
    "    return state"
   ]
  },
  {
   "cell_type": "code",
   "execution_count": null,
   "id": "c9645b34",
   "metadata": {},
   "outputs": [
    {
     "ename": "SyntaxError",
     "evalue": "invalid syntax (1710779452.py, line 4)",
     "output_type": "error",
     "traceback": [
      "\u001b[1;36m  Cell \u001b[1;32mIn[18], line 4\u001b[1;36m\u001b[0m\n\u001b[1;33m    outline = state['outline']`\u001b[0m\n\u001b[1;37m                              ^\u001b[0m\n\u001b[1;31mSyntaxError\u001b[0m\u001b[1;31m:\u001b[0m invalid syntax\n"
     ]
    }
   ],
   "source": [
    "def create_score(state=BlogState)->BlogState:\n",
    "    title = state['title']\n",
    "    content = state['content']\n",
    "    outline = state['outline']\n",
    "    prompt = f\"\"\" Generate blog score percentage for generated blog \\n {content } on topic {title} using following outline /n {outline} how good it is?\"\"\"\n",
    "\n",
    "    score = model.invoke(prompt).content\n",
    "    state['score']=  score\n",
    "    return state"
   ]
  },
  {
   "cell_type": "code",
   "execution_count": null,
   "id": "828e0ada",
   "metadata": {},
   "outputs": [],
   "source": [
    "def create_blog(state:BlogState)-> BlogState:\n",
    "    title = state['title']\n",
    "    outline = state['outline']\n",
    "    prompt = f\"\"\"Generate detailed blog for topic - {title}\n",
    "    uisng following outline \\n {outline}\"\"\"\n",
    "\n",
    "    content = model.invoke( prompt ).content\n",
    "\n",
    "    state['content']= content\n",
    "    return state"
   ]
  },
  {
   "cell_type": "code",
   "execution_count": null,
   "id": "e7676c3c",
   "metadata": {},
   "outputs": [],
   "source": [
    "graph = StateGraph(BlogState)\n",
    "\n",
    "graph.add_node('create_outline',create_outline)\n",
    "graph.add_node('create_blog',create_blog)\n",
    "graph.add_node('create_score',create_score)\n",
    "graph.add_edge(START,'create_outline')\n",
    "graph.add_edge('create_outline','create_blog')\n",
    "graph.add_edge('create_blog','create_score')\n",
    "graph.add_edge('create_score',END)\n",
    "\n",
    "workflow = graph.compile()"
   ]
  },
  {
   "cell_type": "code",
   "execution_count": null,
   "id": "b1ad777d",
   "metadata": {},
   "outputs": [
    {
     "name": "stdout",
     "output_type": "stream",
     "text": [
      "{'title': 'rise of ai', 'outline': 'I. Introduction\\n    A. Definition of AI\\n    B. Importance of AI in modern society\\n    C. Thesis statement: The rise of AI has significant implications on various aspects of society\\n\\nII. Historical background of AI\\n    A. Development of AI technologies\\n    B. Milestones in the field of AI\\n    C. Impact of AI on industries and workforce\\n\\nIII. Current state of AI\\n    A. Types of AI technologies (e.g. machine learning, neural networks)\\n    B. Applications of AI in different sectors (e.g. healthcare, finance, transportation)\\n    C. Challenges and limitations of AI adoption\\n\\nIV. Impacts of AI on society\\n    A. Economic effects of AI automation\\n    B. Ethical considerations in AI development\\n    C. Social implications of AI on human interaction and behavior\\n\\nV. Future of AI\\n    A. Advances in AI research and technologies\\n    B. Potential benefits and risks of AI proliferation\\n    C. Strategies for responsible AI development and governance\\n\\nVI. Conclusion\\n    A. Recap of key points\\n    B. Implications of the rise of AI on society\\n    C. Call to action for ensuring ethical and sustainable integration of AI into society.', 'content': 'The Rise of AI: Implications on Society\\n\\nI. Introduction\\nA. Artificial Intelligence (AI) is the simulation of human intelligence processes by machines, particularly computer systems. \\nB. AI has become increasingly important in modern society, revolutionizing various industries and sectors.\\nC. Thesis Statement: The rise of AI has significant implications on various aspects of society.\\n\\nII. Historical Background of AI\\nA. AI technologies have been in development since the 1950s, with significant advancements in recent years.\\nB. Milestones in the field of AI include the creation of neural networks, machine learning algorithms, and deep learning frameworks.\\nC. AI has had a major impact on industries and the workforce, with automation and optimization being key benefits.\\n\\nIII. Current State of AI\\nA. Types of AI technologies include machine learning, natural language processing, and neural networks.\\nB. AI is being used in various sectors such as healthcare (diagnosis and treatment), finance (algorithmic trading), and transportation (autonomous vehicles).\\nC. Challenges and limitations of AI adoption include data bias, privacy concerns, and ethical dilemmas.\\n\\nIV. Impacts of AI on Society\\nA. Economic effects of AI include job displacement and the need for reskilling and upskilling the workforce.\\nB. Ethical considerations in AI development include issues of bias, transparency, and accountability.\\nC. Social implications of AI on human interaction and behavior may include increased reliance on technology and potential loss of privacy.\\n\\nV. Future of AI\\nA. Advances in AI research and technologies are expected to lead to improved AI capabilities and applications.\\nB. Potential benefits of AI proliferation include increased efficiency, innovation, and convenience, but risks such as job loss, surveillance, and control.\\nC. Strategies for responsible AI development and governance are needed to ensure ethical and sustainable integration into society.\\n\\nVI. Conclusion\\nA. The rise of AI has far-reaching implications on society, touching on economic, ethical, and social aspects.\\nB. It is crucial for policymakers, researchers, and industry leaders to take proactive measures to address the challenges and opportunities presented by AI.\\nC. A call to action is needed to ensure the ethical and sustainable integration of AI into society, fostering a future where AI works for the greater good of humanity.'}\n"
     ]
    }
   ],
   "source": [
    "initial_state = {'title':'rise of ai'}\n",
    "\n",
    "final_state = workflow.invoke( initial_state )\n",
    "print(final_state)"
   ]
  },
  {
   "cell_type": "code",
   "execution_count": null,
   "id": "6683dba5",
   "metadata": {},
   "outputs": [],
   "source": [
    "print(final_state['score'])"
   ]
  },
  {
   "cell_type": "code",
   "execution_count": null,
   "id": "f8ea1025",
   "metadata": {},
   "outputs": [
    {
     "name": "stdout",
     "output_type": "stream",
     "text": [
      "The Rise of AI: Implications on Society\n",
      "\n",
      "I. Introduction\n",
      "A. Artificial Intelligence (AI) is the simulation of human intelligence processes by machines, particularly computer systems. \n",
      "B. AI has become increasingly important in modern society, revolutionizing various industries and sectors.\n",
      "C. Thesis Statement: The rise of AI has significant implications on various aspects of society.\n",
      "\n",
      "II. Historical Background of AI\n",
      "A. AI technologies have been in development since the 1950s, with significant advancements in recent years.\n",
      "B. Milestones in the field of AI include the creation of neural networks, machine learning algorithms, and deep learning frameworks.\n",
      "C. AI has had a major impact on industries and the workforce, with automation and optimization being key benefits.\n",
      "\n",
      "III. Current State of AI\n",
      "A. Types of AI technologies include machine learning, natural language processing, and neural networks.\n",
      "B. AI is being used in various sectors such as healthcare (diagnosis and treatment), finance (algorithmic trading), and transportation (autonomous vehicles).\n",
      "C. Challenges and limitations of AI adoption include data bias, privacy concerns, and ethical dilemmas.\n",
      "\n",
      "IV. Impacts of AI on Society\n",
      "A. Economic effects of AI include job displacement and the need for reskilling and upskilling the workforce.\n",
      "B. Ethical considerations in AI development include issues of bias, transparency, and accountability.\n",
      "C. Social implications of AI on human interaction and behavior may include increased reliance on technology and potential loss of privacy.\n",
      "\n",
      "V. Future of AI\n",
      "A. Advances in AI research and technologies are expected to lead to improved AI capabilities and applications.\n",
      "B. Potential benefits of AI proliferation include increased efficiency, innovation, and convenience, but risks such as job loss, surveillance, and control.\n",
      "C. Strategies for responsible AI development and governance are needed to ensure ethical and sustainable integration into society.\n",
      "\n",
      "VI. Conclusion\n",
      "A. The rise of AI has far-reaching implications on society, touching on economic, ethical, and social aspects.\n",
      "B. It is crucial for policymakers, researchers, and industry leaders to take proactive measures to address the challenges and opportunities presented by AI.\n",
      "C. A call to action is needed to ensure the ethical and sustainable integration of AI into society, fostering a future where AI works for the greater good of humanity.\n"
     ]
    }
   ],
   "source": [
    "print(final_state['content'])\n"
   ]
  },
  {
   "cell_type": "code",
   "execution_count": null,
   "id": "d01abc53",
   "metadata": {},
   "outputs": [
    {
     "name": "stdout",
     "output_type": "stream",
     "text": [
      "I. Introduction\n",
      "    A. Definition of AI\n",
      "    B. Importance of AI in modern society\n",
      "    C. Thesis statement: The rise of AI has significant implications on various aspects of society\n",
      "\n",
      "II. Historical background of AI\n",
      "    A. Development of AI technologies\n",
      "    B. Milestones in the field of AI\n",
      "    C. Impact of AI on industries and workforce\n",
      "\n",
      "III. Current state of AI\n",
      "    A. Types of AI technologies (e.g. machine learning, neural networks)\n",
      "    B. Applications of AI in different sectors (e.g. healthcare, finance, transportation)\n",
      "    C. Challenges and limitations of AI adoption\n",
      "\n",
      "IV. Impacts of AI on society\n",
      "    A. Economic effects of AI automation\n",
      "    B. Ethical considerations in AI development\n",
      "    C. Social implications of AI on human interaction and behavior\n",
      "\n",
      "V. Future of AI\n",
      "    A. Advances in AI research and technologies\n",
      "    B. Potential benefits and risks of AI proliferation\n",
      "    C. Strategies for responsible AI development and governance\n",
      "\n",
      "VI. Conclusion\n",
      "    A. Recap of key points\n",
      "    B. Implications of the rise of AI on society\n",
      "    C. Call to action for ensuring ethical and sustainable integration of AI into society.\n"
     ]
    }
   ],
   "source": [
    "print(final_state['outline'])"
   ]
  },
  {
   "cell_type": "code",
   "execution_count": null,
   "id": "c4fb740f",
   "metadata": {},
   "outputs": [],
   "source": []
  }
 ],
 "metadata": {
  "kernelspec": {
   "display_name": "venv",
   "language": "python",
   "name": "python3"
  },
  "language_info": {
   "codemirror_mode": {
    "name": "ipython",
    "version": 3
   },
   "file_extension": ".py",
   "mimetype": "text/x-python",
   "name": "python",
   "nbconvert_exporter": "python",
   "pygments_lexer": "ipython3",
   "version": "3.9.19"
  }
 },
 "nbformat": 4,
 "nbformat_minor": 5
}
