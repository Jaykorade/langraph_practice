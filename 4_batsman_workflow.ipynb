{
 "cells": [
  {
   "cell_type": "code",
   "execution_count": 19,
   "id": "b30b9427",
   "metadata": {},
   "outputs": [],
   "source": [
    "from langgraph.graph import StateGraph,START,END\n",
    "from typing import TypedDict\n",
    "\n"
   ]
  },
  {
   "cell_type": "code",
   "execution_count": 20,
   "id": "2fba9c54",
   "metadata": {},
   "outputs": [],
   "source": [
    "class BatsmanState(TypedDict):\n",
    "\n",
    "    runs: int\n",
    "    balls: int\n",
    "    fours: int\n",
    "    sixes: int\n",
    "\n",
    "    sr: float\n",
    "    bpb:float\n",
    "    boundry_percent:float\n",
    "    summary:str\n"
   ]
  },
  {
   "cell_type": "code",
   "execution_count": 21,
   "id": "52745c14",
   "metadata": {},
   "outputs": [],
   "source": [
    "def calculate_sr(state: BatsmanState):\n",
    "    sr =(state['runs']/state['balls'])/100\n",
    "    state['sr']=sr\n",
    "    return state\n",
    "\n",
    "\n",
    "def calculate_bpb(state: BatsmanState):\n",
    "    if state[\"balls\"]==0:\n",
    "        raise Exception('Balls cannot be zero')\n",
    "    else:\n",
    "        pass\n",
    "    state['bpb']=(state['balls']/state['fours']+state['sixes'])\n",
    "    return state\n",
    "\n",
    "\n",
    "def calculate_boundry_percent(state: BatsmanState):\n",
    "    if state[\"balls\"]==0:\n",
    "        raise Exception('Balls cannot be zero')\n",
    "    else:\n",
    "        ((state['fours']*4)+(state['sixes']*6)/state['runs'])*100\n",
    "    return state\n",
    "\n",
    "def calculate_summary(state: BatsmanState):\n",
    "    summary= f\"\"\"\n",
    "    Strike Rate - {state['sr']}\\n    \n",
    "    Boundary Percentage - {state['boundry_percent']}\\n    \n",
    "    Balls per boundry - {state['bpb']}\n",
    "    \"\"\"\n",
    "    state['summary'] = summary\n",
    "    return state\n",
    "\n"
   ]
  },
  {
   "cell_type": "code",
   "execution_count": 25,
   "id": "8ca5b65c",
   "metadata": {},
   "outputs": [
    {
     "data": {
      "text/plain": [
       "<langgraph.graph.state.StateGraph at 0x25fe053abe0>"
      ]
     },
     "execution_count": 25,
     "metadata": {},
     "output_type": "execute_result"
    }
   ],
   "source": [
    "graph=StateGraph(BatsmanState)\n",
    "graph.add_node(\"calculate_sr\", calculate_sr)\n",
    "graph.add_node(\"calculatate_bpb\", calculate_bpb)\n",
    "graph.add_node(\"calculatate_boundry_percent\", calculate_boundry_percent)\n",
    "graph.add_node(\"summary\", calculate_summary)\n",
    "\n",
    "#edges\n",
    "graph.add_edge(START, \"calculate_sr\")\n",
    "graph.add_edge(START, \"calculatate_bpb\")\n",
    "graph.add_edge(START, \"calculatate_boundry_percent\")\n",
    "\n",
    "graph.add_edge(\"calculate_sr\",\"summary\")\n",
    "graph.add_edge(\"calculatate_bpb\",\"summary\")\n",
    "graph.add_edge(\"calculatate_boundry_percent\",\"summary\")\n",
    "\n",
    "graph.add_edge(\"summary\",END)\n",
    "\n",
    "\n"
   ]
  },
  {
   "cell_type": "code",
   "execution_count": 26,
   "id": "39c8fafe",
   "metadata": {},
   "outputs": [],
   "source": [
    "workflow = graph.compile()"
   ]
  },
  {
   "cell_type": "code",
   "execution_count": 27,
   "id": "d825b6b2",
   "metadata": {},
   "outputs": [
    {
     "data": {
      "image/png": "[encoded data removed]",
      "text/plain": [
       "<langgraph.graph.state.CompiledStateGraph object at 0x0000025FE0B15B80>"
      ]
     },
     "execution_count": 27,
     "metadata": {},
     "output_type": "execute_result"
    }
   ],
   "source": [
    "workflow"
   ]
  },
  {
   "cell_type": "code",
   "execution_count": null,
   "id": "0a64833c",
   "metadata": {},
   "outputs": [],
   "source": []
  }
 ],
 "metadata": {
  "kernelspec": {
   "display_name": "venv",
   "language": "python",
   "name": "python3"
  },
  "language_info": {
   "codemirror_mode": {
    "name": "ipython",
    "version": 3
   },
   "file_extension": ".py",
   "mimetype": "text/x-python",
   "name": "python",
   "nbconvert_exporter": "python",
   "pygments_lexer": "ipython3",
   "version": "3.9.19"
  }
 },
 "nbformat": 4,
 "nbformat_minor": 5
}
