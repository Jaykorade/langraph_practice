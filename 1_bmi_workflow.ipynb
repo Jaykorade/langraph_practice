{
 "cells": [
  {
   "cell_type": "code",
   "execution_count": 63,
   "id": "e237f2f7",
   "metadata": {},
   "outputs": [],
   "source": [
    "from langgraph.graph import StateGraph,START,END\n",
    "from typing import TypedDict"
   ]
  },
  {
   "cell_type": "code",
   "execution_count": 64,
   "id": "0e325f34",
   "metadata": {},
   "outputs": [],
   "source": [
    "#define state\n",
    "class BMIState(TypedDict):\n",
    "    weight_kg: float\n",
    "    height_m: float\n",
    "    bmi: float\n",
    "    category: str\n",
    "\n"
   ]
  },
  {
   "cell_type": "code",
   "execution_count": 65,
   "id": "7275cf0d",
   "metadata": {},
   "outputs": [],
   "source": [
    "def calculate_bmi(state:BMIState) -> BMIState:\n",
    "    weight = state['weight_kg']    \n",
    "    height = state['height_m']  \n",
    "    bmi = weight /(height **2)\n",
    "    state['bmi']= round(bmi,2)\n",
    "    return state"
   ]
  },
  {
   "cell_type": "code",
   "execution_count": 66,
   "id": "95152a2a",
   "metadata": {},
   "outputs": [],
   "source": [
    "def label_bmi(state: BMIState) -> BMIState:\n",
    "    bmi = state['bmi']\n",
    "    if bmi < 18.5:\n",
    "        state['category']=\"underweight\"\n",
    "    else:\n",
    "         state['category']=\"overweight\"\n",
    "    \n",
    "    return state\n"
   ]
  },
  {
   "cell_type": "code",
   "execution_count": 67,
   "id": "2816c276",
   "metadata": {},
   "outputs": [],
   "source": [
    "#define state graph\n",
    "graph = StateGraph(BMIState)\n",
    "\n",
    "#add nodes to your graph\n",
    "graph.add_node('calculate_BMI', calculate_bmi)\n",
    "graph.add_node('label_BMI', label_bmi)\n",
    "#add edges to your graph\n",
    "graph.add_edge(START,'calculate_BMI')   \n",
    "graph.add_edge('calculate_BMI','label_BMI')   \n",
    "graph.add_edge('label_BMI',END)\n",
    "\n",
    "#compile the graph\n",
    "workflow = graph.compile()\n",
    "#execute the compiled graph\n"
   ]
  },
  {
   "cell_type": "code",
   "execution_count": 68,
   "id": "820d4ed5",
   "metadata": {},
   "outputs": [
    {
     "name": "stdout",
     "output_type": "stream",
     "text": [
      "{'weight_kg': 80, 'height_m': 15, 'bmi': 0.36, 'category': 'underweight'}\n"
     ]
    }
   ],
   "source": [
    "initial_state = {'weight_kg':80,'height_m':15}\n",
    "output_state = workflow.invoke(initial_state)\n",
    "print(output_state)"
   ]
  },
  {
   "cell_type": "code",
   "execution_count": 69,
   "id": "a9c290ad",
   "metadata": {},
   "outputs": [
    {
     "data": {
      "image/png": "[encoded data removed]",
      "text/plain": [
       "<IPython.core.display.Image object>"
      ]
     },
     "execution_count": 69,
     "metadata": {},
     "output_type": "execute_result"
    }
   ],
   "source": [
    "from IPython.display import Image\n",
    "Image(workflow.get_graph().draw_mermaid_png())"
   ]
  }
 ],
 "metadata": {
  "kernelspec": {
   "display_name": "venv",
   "language": "python",
   "name": "python3"
  },
  "language_info": {
   "codemirror_mode": {
    "name": "ipython",
    "version": 3
   },
   "file_extension": ".py",
   "mimetype": "text/x-python",
   "name": "python",
   "nbconvert_exporter": "python",
   "pygments_lexer": "ipython3",
   "version": "3.9.19"
  }
 },
 "nbformat": 4,
 "nbformat_minor": 5
}
